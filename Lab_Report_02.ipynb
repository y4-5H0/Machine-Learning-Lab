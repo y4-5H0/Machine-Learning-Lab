{
  "nbformat": 4,
  "nbformat_minor": 0,
  "metadata": {
    "colab": {
      "provenance": [],
      "mount_file_id": "1o7Vru9WI9FVWu1zhcUxgXA-yyWSP653S",
      "authorship_tag": "ABX9TyMG3JdgzK4VYI8cVScpXFct",
      "include_colab_link": true
    },
    "kernelspec": {
      "name": "python3",
      "display_name": "Python 3"
    },
    "language_info": {
      "name": "python"
    }
  },
  "cells": [
    {
      "cell_type": "markdown",
      "metadata": {
        "id": "view-in-github",
        "colab_type": "text"
      },
      "source": [
        "<a href=\"https://colab.research.google.com/github/y4-5H0/Machine-Learning-Lab/blob/main/Lab_Report_02.ipynb\" target=\"_parent\"><img src=\"https://colab.research.google.com/assets/colab-badge.svg\" alt=\"Open In Colab\"/></a>"
      ]
    },
    {
      "cell_type": "code",
      "execution_count": 1,
      "metadata": {
        "id": "iw9zgJwSZXQA"
      },
      "outputs": [],
      "source": [
        "import numpy as np\n",
        "from collections import Counter\n",
        "\n",
        "class CustomKNN:\n",
        "    def __init__(self, k=3):\n",
        "        self.k = k\n",
        "\n",
        "    def fit(self, X_train, y_train):\n",
        "        self.X_train = np.array(X_train)\n",
        "        self.y_train = np.array(y_train)\n",
        "\n",
        "    def predict(self, X_test):\n",
        "        X_test = np.array(X_test)\n",
        "        return [self._predict(x) for x in X_test]\n",
        "\n",
        "    def _predict(self, x):\n",
        "        distances = [np.linalg.norm(x - x_train) for x_train in self.X_train]\n",
        "        k_indices = np.argsort(distances)[:self.k]\n",
        "        k_labels = [self.y_train[i] for i in k_indices]\n",
        "        return Counter(k_labels).most_common(1)[0][0]\n"
      ]
    },
    {
      "cell_type": "code",
      "source": [
        "def accuracy_score(y_true, y_pred):\n",
        "    return np.sum(np.array(y_true) == np.array(y_pred)) / len(y_true)\n",
        "\n",
        "def confusion_matrix(y_true, y_pred, labels=None):\n",
        "    if labels is None:\n",
        "        labels = np.unique(y_true)\n",
        "    matrix = np.zeros((len(labels), len(labels)), dtype=int)\n",
        "    label_to_index = {label: i for i, label in enumerate(labels)}\n",
        "    for t, p in zip(y_true, y_pred):\n",
        "        matrix[label_to_index[t], label_to_index[p]] += 1\n",
        "    return matrix\n",
        "\n",
        "def precision_recall_f1(y_true, y_pred):\n",
        "    cm = confusion_matrix(y_true, y_pred)\n",
        "    precision, recall, f1 = [], [], []\n",
        "\n",
        "    for i in range(len(cm)):\n",
        "        tp = cm[i][i]\n",
        "        fp = sum(cm[:, i]) - tp\n",
        "        fn = sum(cm[i, :]) - tp\n",
        "\n",
        "        prec = tp / (tp + fp) if (tp + fp) != 0 else 0\n",
        "        rec = tp / (tp + fn) if (tp + fn) != 0 else 0\n",
        "        f1_score = 2 * prec * rec / (prec + rec) if (prec + rec) != 0 else 0\n",
        "\n",
        "        precision.append(prec)\n",
        "        recall.append(rec)\n",
        "        f1.append(f1_score)\n",
        "\n",
        "    return np.mean(precision), np.mean(recall), np.mean(f1)\n"
      ],
      "metadata": {
        "id": "gs3UgEf-Zkhi"
      },
      "execution_count": 2,
      "outputs": []
    },
    {
      "cell_type": "code",
      "source": [
        "from sklearn.datasets import load_iris\n",
        "from sklearn.model_selection import train_test_split\n",
        "\n",
        "iris = load_iris()\n",
        "X, y = iris.data, iris.target\n"
      ],
      "metadata": {
        "id": "mm6bwTAIZoTR"
      },
      "execution_count": 3,
      "outputs": []
    },
    {
      "cell_type": "code",
      "source": [
        "import pandas as pd\n",
        "from sklearn.feature_extraction.text import TfidfVectorizer\n",
        "\n",
        "\n",
        "news_df = pd.read_csv('/content/drive/MyDrive/Colab Notebooks/Data/labelled_newscatcher_dataset.csv', sep=';', engine='python')  # Columns: ['text', 'label']\n",
        "X_news_raw = news_df['title']\n",
        "y_news = news_df['topic']\n",
        "\n",
        "vectorizer = TfidfVectorizer(max_features=500)\n",
        "X_news = vectorizer.fit_transform(X_news_raw).toarray()"
      ],
      "metadata": {
        "id": "jtcHsRRqZsFp"
      },
      "execution_count": 4,
      "outputs": []
    },
    {
      "cell_type": "code",
      "source": [
        "def evaluate_model(X, y, k, split_ratio):\n",
        "    X_train, X_test, y_train, y_test = train_test_split(X, y, test_size=split_ratio, random_state=42)\n",
        "    model = CustomKNN(k=k)\n",
        "    model.fit(X_train, y_train)\n",
        "    y_pred = model.predict(X_test)\n",
        "\n",
        "    acc = accuracy_score(y_test, y_pred)\n",
        "    prec, rec, f1 = precision_recall_f1(y_test, y_pred)\n",
        "    return acc, prec, rec, f1\n"
      ],
      "metadata": {
        "id": "DPCkVzeRaOl7"
      },
      "execution_count": 5,
      "outputs": []
    },
    {
      "cell_type": "code",
      "source": [
        "def find_best_k_split(X, y, k_values, split_ratios):\n",
        "    best_result = {'accuracy': 0}\n",
        "    for k in k_values:\n",
        "        for split in split_ratios:\n",
        "            acc, prec, rec, f1 = evaluate_model(X, y, k, split)\n",
        "            if acc > best_result['accuracy']:\n",
        "                best_result.update({\n",
        "                    'k': k,\n",
        "                    'split': split,\n",
        "                    'accuracy': acc,\n",
        "                    'precision': prec,\n",
        "                    'recall': rec,\n",
        "                    'f1': f1\n",
        "                })\n",
        "    return best_result\n"
      ],
      "metadata": {
        "id": "cVt33Y79aTjy"
      },
      "execution_count": 6,
      "outputs": []
    },
    {
      "cell_type": "code",
      "source": [
        "from sklearn.neighbors import KNeighborsClassifier\n",
        "from sklearn.metrics import accuracy_score as sk_acc, precision_score, recall_score, f1_score\n",
        "\n",
        "def sklearn_knn_evaluation(X, y, k, split_ratio):\n",
        "    X_train, X_test, y_train, y_test = train_test_split(X, y, test_size=split_ratio, random_state=42)\n",
        "    model = KNeighborsClassifier(n_neighbors=k)\n",
        "    model.fit(X_train, y_train)\n",
        "    y_pred = model.predict(X_test)\n",
        "\n",
        "    acc = sk_acc(y_test, y_pred)\n",
        "    prec = precision_score(y_test, y_pred, average='macro')\n",
        "    rec = recall_score(y_test, y_pred, average='macro')\n",
        "    f1 = f1_score(y_test, y_pred, average='macro')\n",
        "    return acc, prec, rec, f1"
      ],
      "metadata": {
        "id": "W2Q42YYWaXxK"
      },
      "execution_count": 7,
      "outputs": []
    },
    {
      "cell_type": "code",
      "source": [
        "k_vals = [1, 3, 5, 7, 9]\n",
        "splits = [0.2, 0.3, 0.4]\n",
        "\n",
        "# Iris dataset\n",
        "best_iris = find_best_k_split(X, y, k_vals, splits)\n",
        "print(\"Best Custom KNN for Iris:\", best_iris)\n",
        "\n",
        "# Compare with sklearn\n",
        "iris_sklearn_metrics = sklearn_knn_evaluation(X, y, best_iris['k'], best_iris['split'])\n",
        "print(\"Sklearn KNN for Iris:\", iris_sklearn_metrics)\n",
        "\n",
        "# News dataset\n",
        "best_news = find_best_k_split(X_news, y_news, k_vals, splits)\n",
        "print(\"Best Custom KNN for News:\", best_news)\n",
        "\n",
        "# Compare with sklearn\n",
        "news_sklearn_metrics = sklearn_knn_evaluation(X_news, y_news, best_news['k'], best_news['split'])\n",
        "print(\"Sklearn KNN for News:\", news_sklearn_metrics)\n"
      ],
      "metadata": {
        "colab": {
          "base_uri": "https://localhost:8080/"
        },
        "id": "SFEsQwPcacwC",
        "outputId": "6f1fb482-a11d-4053-e081-66af15d632d1"
      },
      "execution_count": null,
      "outputs": [
        {
          "output_type": "stream",
          "name": "stdout",
          "text": [
            "Best Custom KNN for Iris: {'accuracy': np.float64(1.0), 'k': 1, 'split': 0.2, 'precision': np.float64(1.0), 'recall': np.float64(1.0), 'f1': np.float64(1.0)}\n",
            "Sklearn KNN for Iris: (1.0, 1.0, 1.0, 1.0)\n"
          ]
        }
      ]
    }
  ]
}