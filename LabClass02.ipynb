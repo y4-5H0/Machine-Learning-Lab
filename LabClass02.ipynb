{
  "nbformat": 4,
  "nbformat_minor": 0,
  "metadata": {
    "colab": {
      "provenance": [],
      "mount_file_id": "1ph5CDKfKUXrvwwjLcz3iWDE7CZAVx6Tk",
      "authorship_tag": "ABX9TyOh8SDgleMQfYTR3Nv4EUrj",
      "include_colab_link": true
    },
    "kernelspec": {
      "name": "python3",
      "display_name": "Python 3"
    },
    "language_info": {
      "name": "python"
    }
  },
  "cells": [
    {
      "cell_type": "markdown",
      "metadata": {
        "id": "view-in-github",
        "colab_type": "text"
      },
      "source": [
        "<a href=\"https://colab.research.google.com/github/y4-5H0/Machine-Learning-Lab/blob/main/LabClass02.ipynb\" target=\"_parent\"><img src=\"https://colab.research.google.com/assets/colab-badge.svg\" alt=\"Open In Colab\"/></a>"
      ]
    },
    {
      "cell_type": "code",
      "execution_count": null,
      "metadata": {
        "id": "R_FFt5l306rF"
      },
      "outputs": [],
      "source": []
    }
  ]
}